{
 "cells": [
  {
   "cell_type": "code",
   "execution_count": 6,
   "id": "022efe5d",
   "metadata": {},
   "outputs": [],
   "source": [
    "import numpy as np"
   ]
  },
  {
   "cell_type": "code",
   "execution_count": 7,
   "id": "b35f8e9e",
   "metadata": {},
   "outputs": [],
   "source": [
    "# Outer boundaries\n",
    "NW = (55.374194, 3.645059)\n",
    "SE = (46.887744, 15.133453)"
   ]
  },
  {
   "cell_type": "code",
   "execution_count": 8,
   "id": "a2f01a52",
   "metadata": {},
   "outputs": [],
   "source": [
    "# All lats & lons\n",
    "lats = np.linspace(NW[0], \n",
    "                   SE[0], \n",
    "                   num=round((NW[0] - SE[0])/0.000001), \n",
    "                   retstep=True)[0]\n",
    "lons = np.linspace(NW[1], \n",
    "                   SE[1], \n",
    "                   num=round((SE[1]-NW[1])/0.000001), \n",
    "                   retstep=True)[0]"
   ]
  },
  {
   "cell_type": "code",
   "execution_count": 19,
   "id": "e1263b57",
   "metadata": {},
   "outputs": [
    {
     "name": "stdout",
     "output_type": "stream",
     "text": [
      "Whoops! That makes 97496 bio queries.\n",
      "55.374194 3.645059\n"
     ]
    }
   ],
   "source": [
    "# All possible combinations of lats & lons\n",
    "\n",
    "n_pairs = len(lats)*len(lons)\n",
    "n_pairs/1000000000\n",
    "\n",
    "print(f\"Whoops! That makes {round(n_pairs/1000000000)} bio queries.\")\n",
    "\n",
    "lat_lon_gen = ((i,j) for i in lats for j in lons)\n",
    "\n",
    "for i in range(n_pairs):\n",
    "    p = next(lat_lon_gen)\n",
    "    print(p[0], p[1])\n",
    "    break"
   ]
  },
  {
   "cell_type": "code",
   "execution_count": 4,
   "id": "8efb8bd9",
   "metadata": {},
   "outputs": [
    {
     "name": "stdout",
     "output_type": "stream",
     "text": [
      "('a', 1)\n",
      "('a', 2)\n",
      "('a', 3)\n",
      "('a', 4)\n",
      "('b', 1)\n",
      "('b', 2)\n",
      "('b', 3)\n",
      "('b', 4)\n"
     ]
    }
   ],
   "source": []
  },
  {
   "cell_type": "code",
   "execution_count": null,
   "id": "464114b6",
   "metadata": {},
   "outputs": [],
   "source": []
  }
 ],
 "metadata": {
  "kernelspec": {
   "display_name": "Python 3 (ipykernel)",
   "language": "python",
   "name": "python3"
  },
  "language_info": {
   "codemirror_mode": {
    "name": "ipython",
    "version": 3
   },
   "file_extension": ".py",
   "mimetype": "text/x-python",
   "name": "python",
   "nbconvert_exporter": "python",
   "pygments_lexer": "ipython3",
   "version": "3.8.10"
  }
 },
 "nbformat": 4,
 "nbformat_minor": 5
}
