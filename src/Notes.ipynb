{
 "cells": [
  {
   "cell_type": "code",
   "execution_count": 1,
   "id": "022efe5d",
   "metadata": {},
   "outputs": [],
   "source": [
    "import numpy as np"
   ]
  },
  {
   "cell_type": "code",
   "execution_count": 2,
   "id": "b35f8e9e",
   "metadata": {},
   "outputs": [],
   "source": [
    "# Outer boundaries\n",
    "NW = (55.374194, 3.645059)\n",
    "SE = (46.887744, 15.133453)"
   ]
  },
  {
   "cell_type": "code",
   "execution_count": 25,
   "id": "a2f01a52",
   "metadata": {},
   "outputs": [],
   "source": [
    "# All lats & lons\n",
    "lats = np.linspace(NW[0], \n",
    "                   SE[0], \n",
    "                   num=round((NW[0] - SE[0])/0.000001), \n",
    "                   retstep=True)[0]\n",
    "lons = np.linspace(NW[1], \n",
    "                   SE[1], \n",
    "                   num=round((SE[1]-NW[1])/0.000001), \n",
    "                   retstep=True)[0]"
   ]
  },
  {
   "cell_type": "code",
   "execution_count": 31,
   "id": "8efb8bd9",
   "metadata": {},
   "outputs": [],
   "source": [
    "# All possible combinations of lats & lons\n",
    "\n",
    "#lats_and_lons = np.array(np.meshgrid(lats, lons)).T.reshape(-1, 2)\n",
    "#MemoryError\n",
    "# TODO: instead of creating an object in memory, try a generator"
   ]
  },
  {
   "cell_type": "code",
   "execution_count": null,
   "id": "464114b6",
   "metadata": {},
   "outputs": [],
   "source": []
  }
 ],
 "metadata": {
  "kernelspec": {
   "display_name": "Python 3 (ipykernel)",
   "language": "python",
   "name": "python3"
  },
  "language_info": {
   "codemirror_mode": {
    "name": "ipython",
    "version": 3
   },
   "file_extension": ".py",
   "mimetype": "text/x-python",
   "name": "python",
   "nbconvert_exporter": "python",
   "pygments_lexer": "ipython3",
   "version": "3.8.10"
  }
 },
 "nbformat": 4,
 "nbformat_minor": 5
}
